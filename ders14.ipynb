{
 "cells": [
  {
   "cell_type": "code",
   "execution_count": 2,
   "metadata": {},
   "outputs": [],
   "source": [
    "import random\n",
    "class hashtable:\n",
    "    def __init__(self, tablesize):\n",
    "        self.table = [0 for i in range (tablesize)]\n",
    "        self.collusion = 0\n",
    "    def hashFunc(self, x):\n",
    "        return x % len(self.table)\n",
    "    def insert(self, x):\n",
    "        if self.table[self.hashFunc(x)] == 1:\n",
    "            self.collusion += 1\n",
    "            return True\n",
    "        else:\n",
    "            self.table[self.hashFunc(x)] = 1\n",
    "            return False"
   ]
  },
  {
   "cell_type": "code",
   "execution_count": 15,
   "metadata": {},
   "outputs": [
    {
     "data": {
      "text/plain": [
       "2"
      ]
     },
     "execution_count": 15,
     "metadata": {},
     "output_type": "execute_result"
    }
   ],
   "source": [
    "def test(size, numOfInsert):\n",
    "    h = hashtable(size)\n",
    "    for i in range (numOfInsert):\n",
    "        number = random.randint(0,10000)\n",
    "        h.insert(number)\n",
    "    return h.collusion\n",
    "test(47, 15)"
   ]
  }
 ],
 "metadata": {
  "kernelspec": {
   "display_name": "Python 3",
   "language": "python",
   "name": "python3"
  },
  "language_info": {
   "codemirror_mode": {
    "name": "ipython",
    "version": 3
   },
   "file_extension": ".py",
   "mimetype": "text/x-python",
   "name": "python",
   "nbconvert_exporter": "python",
   "pygments_lexer": "ipython3",
   "version": "3.7.1"
  }
 },
 "nbformat": 4,
 "nbformat_minor": 2
}
