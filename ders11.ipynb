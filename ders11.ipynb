{
 "cells": [
  {
   "cell_type": "code",
   "execution_count": 1,
   "metadata": {},
   "outputs": [],
   "source": [
    "list_1=[]"
   ]
  },
  {
   "cell_type": "code",
   "execution_count": 1,
   "metadata": {},
   "outputs": [],
   "source": [
    "class myNode(object):\n",
    "    def __init__(self , v=0):\n",
    "        self.value=v\n",
    "        self.prev=None\n",
    "        self.next=None\n",
    "\n",
    "class Tree(object):\n",
    "    def __init__(self):\n",
    "        self.root = Node(250)\n",
    "        \n",
    "    def insert(self, node_1):\n",
    "        iter = ''\n",
    "        if self.root.value > node_1.value :\n",
    "            self.root.left = node_1\n",
    "        elif self.root.value < node_1.value :\n",
    "            self.root.right = node_1\n",
    "        else:\n",
    "            print('Duplicate error')\n",
    "    \n",
    "    def search(self, node):\n",
    "        pass\n",
    "    \n",
    "    def remove(self, node):\n",
    "        pass\n",
    "    \n",
    "    def printTree(self):\n",
    "        Tree.printHelper(self.root)\n",
    "    \n",
    "    def printHelper(node):\n",
    "        if node.left != None:\n",
    "            Tree.printHelper(node.left)\n",
    "        print(node.value)\n",
    "        if node.right != None:\n",
    "            Tree.printHelper(node.right)"
   ]
  },
  {
   "cell_type": "code",
   "execution_count": 20,
   "metadata": {},
   "outputs": [],
   "source": [
    "def printTree(tree_1):\n",
    "    while(tree_1.left!=None):\n",
    "        printTree(tree_1.left)\n",
    "        \n",
    "    print(tree_1.value)\n",
    "    \n",
    "    while(tree_1.right!=None):\n",
    "        printTree(tree_1.right)"
   ]
  },
  {
   "cell_type": "code",
   "execution_count": 18,
   "metadata": {},
   "outputs": [
    {
     "name": "stdout",
     "output_type": "stream",
     "text": [
      "-20\n",
      "250\n",
      "300\n"
     ]
    }
   ],
   "source": [
    "def test_2():\n",
    "    T_1=myTree() #root 250\n",
    "    T_1.insert(myNode(-20))\n",
    "    T_1.insert(myNode(300))\n",
    "    print(T_1.root.left.value)\n",
    "    print(T_1.root.value)\n",
    "    print(T_1.root.right.value)\n",
    "test_2()"
   ]
  },
  {
   "cell_type": "code",
   "execution_count": 7,
   "metadata": {},
   "outputs": [
    {
     "data": {
      "text/plain": [
       "100"
      ]
     },
     "execution_count": 7,
     "metadata": {},
     "output_type": "execute_result"
    }
   ],
   "source": [
    "n_1=myNode(100)\n",
    "n_1.value"
   ]
  },
  {
   "cell_type": "code",
   "execution_count": null,
   "metadata": {},
   "outputs": [],
   "source": [
    "def test():\n",
    "    n_1=myNode(100)\n",
    "    n_1.value\n",
    "    T_1=myTree()\n",
    "    T_1.root.value"
   ]
  }
 ],
 "metadata": {
  "kernelspec": {
   "display_name": "Python 3",
   "language": "python",
   "name": "python3"
  },
  "language_info": {
   "codemirror_mode": {
    "name": "ipython",
    "version": 3
   },
   "file_extension": ".py",
   "mimetype": "text/x-python",
   "name": "python",
   "nbconvert_exporter": "python",
   "pygments_lexer": "ipython3",
   "version": "3.7.1"
  }
 },
 "nbformat": 4,
 "nbformat_minor": 2
}
