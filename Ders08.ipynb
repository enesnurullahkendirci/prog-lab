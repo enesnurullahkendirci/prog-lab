{
 "cells": [
  {
   "cell_type": "code",
   "execution_count": 97,
   "metadata": {},
   "outputs": [],
   "source": [
    "##girilen X sayisini asal çarpanlara ayırma\n",
    "def AsalAyirma(x):\n",
    "    a=[]\n",
    "    for i in range(2,x+1):\n",
    "        while(x%i==0):\n",
    "            a.append(i)\n",
    "            x=x/i     \n",
    "    return a"
   ]
  },
  {
   "cell_type": "code",
   "execution_count": 98,
   "metadata": {},
   "outputs": [
    {
     "data": {
      "text/plain": [
       "[2, 3, 7, 73, 101, 137]"
      ]
     },
     "execution_count": 98,
     "metadata": {},
     "output_type": "execute_result"
    }
   ],
   "source": [
    "AsalAyirma(42424242)"
   ]
  },
  {
   "cell_type": "code",
   "execution_count": null,
   "metadata": {},
   "outputs": [],
   "source": [
    "##eleman seçilsin\n",
    "##sonraki n kadar elemanla toplansın\n",
    "##listeye eklesin\n",
    "##sonraki n-1 elemanla toplansın\n",
    "##listeye eklesin...\n",
    "##eleman+1 seçilsin\n",
    "##sonraki n-1 kadar elemanla toplansın\n",
    "##listeye eklesin\n",
    "##sonraki n-2 kadar elemanla toplansın\n",
    "##listeye eklesin...\n",
    "##..."
   ]
  },
  {
   "cell_type": "code",
   "execution_count": 99,
   "metadata": {},
   "outputs": [],
   "source": [
    "## a Listesindeki sayıların ardışık toplamıyla elde edilebilecek en büyük sayıyı bulan program\n",
    "a=[4,-3,2,-1,-2,6,-5]\n",
    "def denemem(liste):\n",
    "    toplamlarlistesi=[]\n",
    "    toplam=0\n",
    "    n=len(liste)\n",
    "    for i in range(0,n): ##listedeki kaçıncı sayıdan itibaren toplama yapılacağını seçen döngü\n",
    "        toplam=a[i]\n",
    "        for j in range(1,n-i): ## seçilen sayıdan sonraki kaç sayının toplanacağını seçen döngü\n",
    "            toplam=a[i+j]+toplam\n",
    "            toplamlarlistesi.append(toplam)\n",
    "        ##print(toplamlarlistesi)\n",
    "    print(max(toplamlarlistesi))"
   ]
  },
  {
   "cell_type": "code",
   "execution_count": 100,
   "metadata": {
    "scrolled": true
   },
   "outputs": [
    {
     "name": "stdout",
     "output_type": "stream",
     "text": [
      "6\n"
     ]
    }
   ],
   "source": [
    "denemem(a)"
   ]
  }
 ],
 "metadata": {
  "kernelspec": {
   "display_name": "Python 3",
   "language": "python",
   "name": "python3"
  },
  "language_info": {
   "codemirror_mode": {
    "name": "ipython",
    "version": 3
   },
   "file_extension": ".py",
   "mimetype": "text/x-python",
   "name": "python",
   "nbconvert_exporter": "python",
   "pygments_lexer": "ipython3",
   "version": "3.7.1"
  }
 },
 "nbformat": 4,
 "nbformat_minor": 2
}
