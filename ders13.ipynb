{
 "cells": [
  {
   "cell_type": "code",
   "execution_count": 18,
   "metadata": {},
   "outputs": [
    {
     "data": {
      "text/plain": [
       "4"
      ]
     },
     "execution_count": 18,
     "metadata": {},
     "output_type": "execute_result"
    }
   ],
   "source": [
    "import random\n",
    "def rollDie():\n",
    "    '''Returns a random int between 1 and 6'''\n",
    "    return random.choice([1, 2, 3, 4, 5, 6])\n",
    "rollDie()"
   ]
  },
  {
   "cell_type": "code",
   "execution_count": 19,
   "metadata": {},
   "outputs": [
    {
     "name": "stdout",
     "output_type": "stream",
     "text": [
      "4\n",
      "41\n",
      "413\n",
      "4135\n",
      "41354\n",
      "413544\n"
     ]
    }
   ],
   "source": [
    "def rollN(n):\n",
    "    result = ''\n",
    "    for i in range(n):\n",
    "        result = result + str(rollDie())\n",
    "        print(result)\n",
    "rollN(6)"
   ]
  },
  {
   "cell_type": "code",
   "execution_count": 20,
   "metadata": {},
   "outputs": [
    {
     "data": {
      "text/plain": [
       "0.5"
      ]
     },
     "execution_count": 20,
     "metadata": {},
     "output_type": "execute_result"
    }
   ],
   "source": [
    "def flip(numFlips):\n",
    "    \"\"\"Assumes numFlips a positive int\"\"\"\n",
    "    heads = 0\n",
    "    for i in range(numFlips):\n",
    "        if random.choice(('H', 'T')) == 'H':\n",
    "            heads += 1\n",
    "    return heads/float(numFlips)\n",
    "flip(10)"
   ]
  },
  {
   "cell_type": "code",
   "execution_count": 21,
   "metadata": {},
   "outputs": [
    {
     "data": {
      "text/plain": [
       "0.5030000000000001"
      ]
     },
     "execution_count": 21,
     "metadata": {},
     "output_type": "execute_result"
    }
   ],
   "source": [
    "def flipSim(numFlipsPerTrial, numTrials):\n",
    "    fracHeads = []\n",
    "    for i in range(numTrials):\n",
    "        fracHeads.append(flip(numFlipsPerTrial))\n",
    "    mean = sum(fracHeads)/len(fracHeads)\n",
    "    return mean\n",
    "flipSim(10, 100)"
   ]
  },
  {
   "cell_type": "code",
   "execution_count": 22,
   "metadata": {},
   "outputs": [],
   "source": [
    "def labelPlot(numFlips, numTrials, mean, sd):\n",
    "    pylab.title(str(numTrials) + ' trials of '\n",
    "    + str(numFlips) + ' flips each')\n",
    "    pylab.xlabel('Fraction of Heads')\n",
    "    pylab.ylabel('Number of Trials')\n",
    "    pylab.annotate('Mean = ' + str(round(mean, 4))\\\n",
    "        + '\\nSD = ' + str(round(sd, 4)), size='x-large',\n",
    "        xycoords = 'axes fraction', xy = (0.67, 0.5))"
   ]
  },
  {
   "cell_type": "code",
   "execution_count": 23,
   "metadata": {},
   "outputs": [],
   "source": [
    "def makePlots(numFlips1, numFlips2, numTrials):\n",
    "    val1, mean1, sd1 = flipSim(numFlips1, numTrials)\n",
    "    pylab.hist(val1, bins = 20)\n",
    "    xmin,xmax = pylab.xlim()\n",
    "    labelPlot(numFlips1, numTrials, mean1, sd1)\n",
    "    pylab.figure()\n",
    "    val2, mean2, sd2 = flipSim(numFlips2, numTrials)\n",
    "    pylab.hist(val2, bins = 20)\n",
    "    pylab.xlim(xmin, xmax)\n",
    "    labelPlot(numFlips2, numTrials, mean2, sd2)"
   ]
  },
  {
   "cell_type": "code",
   "execution_count": 24,
   "metadata": {},
   "outputs": [
    {
     "data": {
      "image/png": "[encoded data removed]",
      "text/plain": [
       "<Figure size 432x288 with 1 Axes>"
      ]
     },
     "metadata": {
      "needs_background": "light"
     },
     "output_type": "display_data"
    },
    {
     "data": {
      "image/png": "[encoded data removed]",
      "text/plain": [
       "<Figure size 432x288 with 1 Axes>"
      ]
     },
     "metadata": {
      "needs_background": "light"
     },
     "output_type": "display_data"
    }
   ],
   "source": [
    "import pylab\n",
    "def flipPlot(minExp, maxExp):\n",
    "    \"\"\"Assumes minExp and maxExp positive integers; minExp < maxExp\n",
    "    Plots results of 2**minExp to 2**maxExp coin flips\"\"\"\n",
    "    ratios, diffs, xAxis = [], [], []\n",
    "    for exp in range(minExp, maxExp + 1):\n",
    "        xAxis.append(2**exp)\n",
    "    for numFlips in xAxis:\n",
    "        numHeads = 0\n",
    "        for n in range(numFlips):\n",
    "            if random.choice(('H', 'T')) == 'H':\n",
    "                numHeads += 1\n",
    "        numTails = numFlips - numHeads\n",
    "        try:\n",
    "            ratios.append(numHeads/numTails)\n",
    "            diffs.append(abs(numHeads - numTails))\n",
    "        except ZeroDivisionError:\n",
    "            continue\n",
    "    #pylab.title('Difference Between Heads and Tails')\n",
    "    #pylab.xlabel('Number of Flips')\n",
    "    #pylab.ylabel('Abs(#Heads - #Tails)')\n",
    "    pylab.title('2023')\n",
    "    pylab.xlabel('Gelecek kaygilarim')\n",
    "    pylab.ylabel('Dolarin yukselisi')\n",
    "    pylab.plot(xAxis, diffs, 'k')\n",
    "   \n",
    "    \n",
    "    pylab.figure()\n",
    "    pylab.title('Heads/Tails Ratios')\n",
    "    pylab.xlabel('Number of Flips')\n",
    "    pylab.ylabel('#Heads/#Tails')\n",
    "    pylab.plot(xAxis, ratios, 'k')\n",
    "\n",
    "    random.seed(0)\n",
    "flipPlot(4, 20)"
   ]
  }
 ],
 "metadata": {
  "kernelspec": {
   "display_name": "Python 3",
   "language": "python",
   "name": "python3"
  },
  "language_info": {
   "codemirror_mode": {
    "name": "ipython",
    "version": 3
   },
   "file_extension": ".py",
   "mimetype": "text/x-python",
   "name": "python",
   "nbconvert_exporter": "python",
   "pygments_lexer": "ipython3",
   "version": "3.7.1"
  }
 },
 "nbformat": 4,
 "nbformat_minor": 2
}
