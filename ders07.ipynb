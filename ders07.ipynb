{
 "cells": [
  {
   "cell_type": "code",
   "execution_count": 5,
   "metadata": {},
   "outputs": [],
   "source": [
    "## A= [1 2]  det(A)=1.4-2.3\n",
    "##     3 4 \n",
    "## B= [1 2 3]   det(B)=-1.(1).det[5 6]\n",
    "##     4 5 6                      8 9\n",
    "##     7 8 9            .............."
   ]
  },
  {
   "cell_type": "code",
   "execution_count": 8,
   "metadata": {},
   "outputs": [],
   "source": [
    "matrix_1=[[-1,2],[3,4]]\n",
    "matrix_2=[[1,2,3],[4,5,6],[7,8,9]]"
   ]
  },
  {
   "cell_type": "code",
   "execution_count": 9,
   "metadata": {},
   "outputs": [
    {
     "data": {
      "text/plain": [
       "(2, 2)"
      ]
     },
     "execution_count": 9,
     "metadata": {},
     "output_type": "execute_result"
    }
   ],
   "source": [
    "satir_sayisi=len(matrix_1)\n",
    "sutun_sayisi=len(matrix_1[0])\n",
    "satir_sayisi,sutun_sayisi"
   ]
  },
  {
   "cell_type": "code",
   "execution_count": 21,
   "metadata": {},
   "outputs": [
    {
     "name": "stdout",
     "output_type": "stream",
     "text": [
      "25440\n"
     ]
    }
   ],
   "source": [
    "matrix_2=[[1,2,3],[4,5,6],[7,8,9]]\n",
    "def det_from_2_by_2(m_1):\n",
    "    s_1=m_1[0][0]*m_1[1][1]\n",
    "    s_2=m_1[0][1]*m_1[1][0]\n",
    "    s_3=s_1-s_2\n",
    "    return s_3\n",
    "def delete_row_col_from_matrix(m_1,m,n):\n",
    "    result=[]\n",
    "    size_1=(len(m_1))\n",
    "    size_2=(len(m_1[0]))\n",
    "            \n",
    "    for i in range(size_1):\n",
    "        if(i==m):\n",
    "            continue\n",
    "        row_1=[]\n",
    "        for j in range (size_2):\n",
    "            if(j==n):\n",
    "                continue\n",
    "            row_1.append(m_1[i][j])\n",
    "        result.append(row_1)\n",
    "        \n",
    "        \n",
    "    return result\n",
    "matrix_1\n",
    "delete_row_col_from_matrix(matrix_2,0,0)\n",
    "def det_from_3_by_3(m_1):\n",
    "    a_1=m_1[0][0]\n",
    "    a_2=delete_row_col_from_matrix(m_1,0,0)\n",
    "    a_3=det_from_2_by_2(a_2)\n",
    "    a_4=a_1*a_3\n",
    "    \n",
    "    b_1=m_1[0][1]\n",
    "    b_2=delete_row_col_from_matrix(m_1,0,1)\n",
    "    b_3=det_from_2_by_2(b_2)\n",
    "    b_4=b_1*b_3\n",
    "    \n",
    "    c_1=m_1[0][2]\n",
    "    c_2=delete_row_col_from_matrix(m_1,0,2)\n",
    "    c_3=det_from_2_by_2(c_2)\n",
    "    c_4=c_1*c_3 \n",
    "    return a_4-b_4+c_4\n",
    "def det_from_4_by_4(m_1):\n",
    "    a_1=m_1[0][0]\n",
    "    a_2=delete_row_col_from_matrix(m_1,0,0)\n",
    "    a_3=det_from_3_by_3(a_2)\n",
    "    a_4=a_1*a_3\n",
    "    \n",
    "    b_1=m_1[0][1]\n",
    "    b_2=delete_row_col_from_matrix(m_1,0,1)\n",
    "    b_3=det_from_3_by_3(b_2)\n",
    "    b_4=b_1*b_3\n",
    "    \n",
    "    c_1=m_1[0][2]\n",
    "    c_2=delete_row_col_from_matrix(m_1,0,2)\n",
    "    c_3=det_from_3_by_3(c_2)\n",
    "    c_4=c_1*c_3 \n",
    "    \n",
    "    d_1=m_1[0][3]\n",
    "    d_2=delete_row_col_from_matrix(m_1,0,3)\n",
    "    d_3=det_from_3_by_3(d_2)\n",
    "    d_4=d_1*d_3 \n",
    "    \n",
    "    return a_4-b_4+c_4-d_4\n",
    "matrix_4=[[13,2,3,4],[5,6,7,8],[92,10,31,42],[13,134,15,16]]\n",
    "r_1=det_from_4_by_4(matrix_4)\n",
    "    \n",
    "print(r_1)"
   ]
  },
  {
   "cell_type": "code",
   "execution_count": 12,
   "metadata": {},
   "outputs": [],
   "source": [
    "##11 mart pzt ders saati başlangıcına aşağıdaki formatta çalışmalarınızı teslim ediniz\n",
    "# tarih konu githubLinki yükleme tarihi\n",
    "#  Screen capture\n",
    "#    github"
   ]
  }
 ],
 "metadata": {
  "kernelspec": {
   "display_name": "Python 3",
   "language": "python",
   "name": "python3"
  },
  "language_info": {
   "codemirror_mode": {
    "name": "ipython",
    "version": 3
   },
   "file_extension": ".py",
   "mimetype": "text/x-python",
   "name": "python",
   "nbconvert_exporter": "python",
   "pygments_lexer": "ipython3",
   "version": "3.7.1"
  }
 },
 "nbformat": 4,
 "nbformat_minor": 2
}
