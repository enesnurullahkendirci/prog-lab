{
 "cells": [
  {
   "cell_type": "code",
   "execution_count": 37,
   "metadata": {},
   "outputs": [
    {
     "data": {
      "text/plain": [
       "True"
      ]
     },
     "execution_count": 37,
     "metadata": {},
     "output_type": "execute_result"
    }
   ],
   "source": [
    "#String Text içinde varsa True döndüren fonksiyon\n",
    "def arama(text,word):\n",
    "    srch = True\n",
    "    if (text.find(word)==-1):\n",
    "        srch = False\n",
    "    return srch\n",
    "arama(\"The truth may be stretched thin, but it never breaks, and it always surfaces above lies, as oil floats on water.\",\"lies\")"
   ]
  },
  {
   "cell_type": "code",
   "execution_count": 38,
   "metadata": {},
   "outputs": [
    {
     "data": {
      "text/plain": [
       "(83, 87)"
      ]
     },
     "execution_count": 38,
     "metadata": {},
     "output_type": "execute_result"
    }
   ],
   "source": [
    "#String text içinde varsa hangi aralıkta olduğunu yazan fonksiyon\n",
    "def index(text,word):\n",
    "    r_b = text.find(word) , text.find(word)+len(word)\n",
    "    return r_b\n",
    "index(\"The truth may be stretched thin, but it never breaks, and it always surfaces above lies, as oil floats on water.\",\"lies\")\n",
    "    "
   ]
  },
  {
   "cell_type": "code",
   "execution_count": 40,
   "metadata": {},
   "outputs": [
    {
     "data": {
      "text/plain": [
       "[4, 7, 18, 21, 27, 35, 38, 59, 100, 108]"
      ]
     },
     "execution_count": 40,
     "metadata": {},
     "output_type": "execute_result"
    }
   ],
   "source": [
    "#Yazılan stringin hangi konumlarda olduğunu yazan fonksiyon\n",
    "def kacTane(text,word):\n",
    "    i=0\n",
    "    a = []\n",
    "    for i in range(len(text)):\n",
    "        s = text.find(word,i,len(text))\n",
    "        if s != -1 and a.count(s)==0:\n",
    "            a.append(s)\n",
    "    return a\n",
    "        \n",
    "kacTane(\"The truth may be stretched thin, but it never breaks, and it always surfaces above lies, as oil floats on water.\",\"t\")\n",
    "        "
   ]
  },
  {
   "cell_type": "code",
   "execution_count": 44,
   "metadata": {},
   "outputs": [
    {
     "name": "stdout",
     "output_type": "stream",
     "text": [
      "kelime giriniz: kayak\n"
     ]
    },
    {
     "data": {
      "text/plain": [
       "True"
      ]
     },
     "execution_count": 44,
     "metadata": {},
     "output_type": "execute_result"
    }
   ],
   "source": [
    "#Palindrom kontrol\n",
    "def kelimekontrol(kelime):\n",
    "    if kelime[::-1] == kelime:\n",
    "        b = True\n",
    "    else:\n",
    "        b = False\n",
    "    return b\n",
    "    \n",
    "a = input(\"kelime giriniz: \")\n",
    "\n",
    "kelimekontrol(a)\n"
   ]
  },
  {
   "cell_type": "code",
   "execution_count": 48,
   "metadata": {},
   "outputs": [
    {
     "name": "stdout",
     "output_type": "stream",
     "text": [
      "3 3\n"
     ]
    },
    {
     "data": {
      "text/plain": [
       "[['b', 'o', 'o'], ['o', '0', 'o'], ['o', 'o', 'm']]"
      ]
     },
     "execution_count": 48,
     "metadata": {},
     "output_type": "execute_result"
    }
   ],
   "source": [
    "# nxn karakteri nxn matrise atayan fonksiyon \n",
    "def nxn(kelime):\n",
    "    my_list = []\n",
    "    boy = int(len(kelime)**(1/2))\n",
    "    print(boy,boy)\n",
    "    indis = -boy+1\n",
    "    for i in range (boy): #satir için\n",
    "        my_list.append ([])\n",
    "        indis = indis + (boy-1)\n",
    "        for j in range(i+indis,i+boy+indis):\n",
    "            s = kelime[j]\n",
    "            my_list[i].append(s)\n",
    "    return my_list\n",
    "nxn(\"booo0ooom\")"
   ]
  },
  {
   "cell_type": "code",
   "execution_count": 49,
   "metadata": {},
   "outputs": [
    {
     "name": "stdout",
     "output_type": "stream",
     "text": [
      "4 4\n"
     ]
    },
    {
     "data": {
      "text/plain": [
       "[['0', '1', '2', '3'],\n",
       " ['4', '5', '6', '7'],\n",
       " ['8', '9', 'A', 'B'],\n",
       " ['C', 'D', 'E', 'F']]"
      ]
     },
     "execution_count": 49,
     "metadata": {},
     "output_type": "execute_result"
    }
   ],
   "source": [
    "# nxn karakteri nxn matrise atayan fonksiyon \n",
    "def nxn(kelime):\n",
    "    t=0\n",
    "    my_list = []\n",
    "    boy = int(len(kelime)**(1/2))\n",
    "    print(boy,boy)\n",
    "    for k in range(boy):\n",
    "        a = []\n",
    "        for m in range(boy):\n",
    "            a.append(0)\n",
    "        my_list.append(a) \n",
    "            \n",
    "    for i in range (boy):\n",
    "        for j in range(boy):\n",
    "            my_list[i][j] = kelime[t]\n",
    "            t = t + 1\n",
    "    return my_list\n",
    "nxn(\"0123456789ABCDEF\")"
   ]
  },
  {
   "cell_type": "code",
   "execution_count": 54,
   "metadata": {},
   "outputs": [
    {
     "name": "stdout",
     "output_type": "stream",
     "text": [
      "2.8\n"
     ]
    },
    {
     "data": {
      "text/plain": [
       "0.8366600265340756"
      ]
     },
     "execution_count": 54,
     "metadata": {},
     "output_type": "execute_result"
    }
   ],
   "source": [
    "#Standart sapmayı hesaplayan fonksiyon\n",
    "ops = [2,3,4,2,3]\n",
    "def ssHesaplama(my_list):\n",
    "    pay = 0\n",
    "    ort = sum(my_list)/len(my_list)\n",
    "    for i in range(len(my_list)):\n",
    "        pay = pay + (my_list[i]-ort)**2\n",
    "    print(pay)\n",
    "    ss = (pay/((len(my_list)-1)))**(1/2)\n",
    "    return ss\n",
    "ssHesaplama(ops)"
   ]
  },
  {
   "cell_type": "code",
   "execution_count": 1,
   "metadata": {},
   "outputs": [
    {
     "data": {
      "text/plain": [
       "0"
      ]
     },
     "execution_count": 1,
     "metadata": {},
     "output_type": "execute_result"
    }
   ],
   "source": [
    "#determinant hesaplayan fonksiyon\n",
    "rasgalematris = [[1,2,3],[4,5,6],[7,8,9]]\n",
    "def delete_row_column(my_matrix,m,n):#satir sutun silme\n",
    "    twobytwo = []\n",
    "    boy = len(my_matrix)\n",
    "    for i in range(boy):\n",
    "        if m==i:\n",
    "            continue\n",
    "        satir = []\n",
    "        for j in range(boy):\n",
    "            if n==j:\n",
    "                continue\n",
    "            satir.append(my_matrix[i][j])\n",
    "        twobytwo.append(satir)\n",
    "    return twobytwo\n",
    "def twobytwo(my_matrix):\n",
    "    return my_matrix[0][0]*my_matrix[1][1]-my_matrix[0][1]*my_matrix[1][0]\n",
    "def threebythree(matris):\n",
    "    det = 0\n",
    "    for i in range(3):\n",
    "        adim1 = delete_row_column(matris,0,i)\n",
    "        adim2 = matris[0][i]*((-1)**(i))*twobytwo(adim1)\n",
    "        det += adim2\n",
    "    return det\n",
    "threebythree(rasgalematris)"
   ]
  },
  {
   "cell_type": "code",
   "execution_count": 2,
   "metadata": {},
   "outputs": [
    {
     "data": {
      "text/plain": [
       "0"
      ]
     },
     "execution_count": 2,
     "metadata": {},
     "output_type": "execute_result"
    }
   ],
   "source": [
    "#3x3\n",
    "def det3by3(m):\n",
    "    det = 0\n",
    "    for i in range (3):\n",
    "        a1 = delete_row_column(m,0,i)\n",
    "        a2 = twobytwo(a1)\n",
    "        a3 =m[0][i]*((-1)**i)*a2\n",
    "        det += a3\n",
    "    return det\n",
    "det3by3(rasgalematris)"
   ]
  },
  {
   "cell_type": "code",
   "execution_count": 55,
   "metadata": {},
   "outputs": [
    {
     "data": {
      "text/plain": [
       "True"
      ]
     },
     "execution_count": 55,
     "metadata": {},
     "output_type": "execute_result"
    }
   ],
   "source": [
    "#tekil matris olup olmadığını kontrol eden fonksiyon\n",
    "def singular(my_matrix):\n",
    "    if  threebythree(my_matrix) == 0:\n",
    "        a = True\n",
    "    else:\n",
    "        a = False\n",
    "    return a\n",
    "singular(rasgalematris)"
   ]
  },
  {
   "cell_type": "code",
   "execution_count": 4,
   "metadata": {},
   "outputs": [
    {
     "data": {
      "text/plain": [
       "(26, 27)"
      ]
     },
     "execution_count": 4,
     "metadata": {},
     "output_type": "execute_result"
    }
   ],
   "source": [
    "#toplamları en büyük olan satir ve sutun bulma\n",
    "rasgalematris = [[1,22,3],[4,5,6]]\n",
    "def maxi(m):\n",
    "    tn,maxisatir,maxisutun = 0,0,0\n",
    "    for i in range (len(m)):\n",
    "        tm=sum(m[i])\n",
    "        if tm > maxisatir:\n",
    "            maxisatir = tm\n",
    "    for j in range (len(m[0])):\n",
    "        tn = 0\n",
    "        for i in range (len(m)):\n",
    "            tn = tn + m[i][j]\n",
    "            if tn > maxisutun:\n",
    "                maxisutun = tn\n",
    "    return maxisatir,maxisutun\n",
    "maxi(rasgalematris)"
   ]
  },
  {
   "cell_type": "code",
   "execution_count": 170,
   "metadata": {},
   "outputs": [
    {
     "data": {
      "text/plain": [
       "{(0, 0): 1,\n",
       " (0, 1): 2,\n",
       " (0, 2): 3,\n",
       " (1, 0): 4,\n",
       " (1, 1): 5,\n",
       " (1, 2): 6,\n",
       " (2, 0): 7,\n",
       " (2, 1): 8,\n",
       " (2, 2): 9}"
      ]
     },
     "execution_count": 170,
     "metadata": {},
     "output_type": "execute_result"
    }
   ],
   "source": [
    "ops = [[1,2,3],[4,5,6],[7,8,9]]\n",
    "def sifirsayar(my_matrix):# kaç adet sıfır olduğunu saydı\n",
    "    kacTane = 0\n",
    "    for i in range(len(my_matrix)):\n",
    "        kacTane += my_matrix[i].count(0)\n",
    "    return kacTane\n",
    "def sifirkontrol(my_matrix): # Eğer 0 sayısı yüzde otuzdan az ise Hash yapısına aktardı\n",
    "    yuzdelikLimiti = len(my_matrix)*len(my_matrix[0])*3/10\n",
    "    if kacTane < yuzdelikLimiti:\n",
    "        my_dict={}\n",
    "        for i in range(len(my_matrix)):\n",
    "            for j in range(len(my_matrix[0])):\n",
    "                my_dict[(i,j)] = my_matrix[i][j]\n",
    "    a = my_dict\n",
    "    return my_dict\n",
    "sifirkontrol(ops)"
   ]
  },
  {
   "cell_type": "code",
   "execution_count": 169,
   "metadata": {},
   "outputs": [
    {
     "data": {
      "text/plain": [
       "[[1, 2, 3], [4, 5, 6], [7, 8, 9]]"
      ]
     },
     "execution_count": 169,
     "metadata": {},
     "output_type": "execute_result"
    }
   ],
   "source": [
    "def listeyeDonusturme(my_dict):# Hash yapısındaki matrisi listeye aktardı\n",
    "    my_matrix=[[0 for j in range (3)]for i in range (3)]\n",
    "    for key, value in my_dict.items():\n",
    "        my_matrix[key[0]][key[1]] = value\n",
    "    return my_matrix\n",
    "listeyeDonusturme(sifirkontrol(ops))"
   ]
  }
 ],
 "metadata": {
  "kernelspec": {
   "display_name": "Python 3",
   "language": "python",
   "name": "python3"
  },
  "language_info": {
   "codemirror_mode": {
    "name": "ipython",
    "version": 3
   },
   "file_extension": ".py",
   "mimetype": "text/x-python",
   "name": "python",
   "nbconvert_exporter": "python",
   "pygments_lexer": "ipython3",
   "version": "3.7.1"
  }
 },
 "nbformat": 4,
 "nbformat_minor": 2
}
