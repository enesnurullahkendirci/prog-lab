{
 "cells": [
  {
   "cell_type": "code",
   "execution_count": 8,
   "metadata": {},
   "outputs": [
    {
     "data": {
      "text/plain": [
       "({99: 1,\n",
       "  2: 4,\n",
       "  3: 1,\n",
       "  5: 4,\n",
       "  8: 5,\n",
       "  7: 1,\n",
       "  9: 1,\n",
       "  6: 1,\n",
       "  31: 1,\n",
       "  15: 1,\n",
       "  1: 2,\n",
       "  61: 1,\n",
       "  4: 1},\n",
       " [[99, 1],\n",
       "  [2, 4],\n",
       "  [3, 1],\n",
       "  [5, 4],\n",
       "  [8, 5],\n",
       "  [7, 1],\n",
       "  [9, 1],\n",
       "  [6, 1],\n",
       "  [31, 1],\n",
       "  [15, 1],\n",
       "  [1, 2],\n",
       "  [61, 1],\n",
       "  [4, 1]])"
      ]
     },
     "execution_count": 8,
     "metadata": {},
     "output_type": "execute_result"
    }
   ],
   "source": [
    "my_list=[99,2,3,2,5,8,2,5,7,8,9,6,31,5,8,15,5,1,8,61,4,8,2,1]\n",
    "def my_freq_dict(list):\n",
    "    freq_dict={}\n",
    "    for item in list:\n",
    "        if (item in freq_dict):\n",
    "            freq_dict[item]=freq_dict[item]+1\n",
    "        else:\n",
    "            freq_dict[item]=1\n",
    "    return freq_dict\n",
    "\n",
    "def my_freq_list(list_1):\n",
    "    freq_list=[]\n",
    "    for i in range(len(list_1)):\n",
    "        s=False\n",
    "        for j in range(len(freq_list)):\n",
    "            if (list_1[i]==freq_list[j][0]):\n",
    "                freq_list[j][1]=freq_list[j][1]+1\n",
    "                s=True\n",
    "        if(s==False):\n",
    "            freq_list.append([list_1[i],1]) \n",
    "    return freq_list\n",
    "\n",
    "result_1=my_freq_dict(my_list)\n",
    "result_2=my_freq_list(my_list)\n",
    "result_1,result_2"
   ]
  },
  {
   "cell_type": "code",
   "execution_count": null,
   "metadata": {},
   "outputs": [],
   "source": []
  }
 ],
 "metadata": {
  "kernelspec": {
   "display_name": "Python 3",
   "language": "python",
   "name": "python3"
  },
  "language_info": {
   "codemirror_mode": {
    "name": "ipython",
    "version": 3
   },
   "file_extension": ".py",
   "mimetype": "text/x-python",
   "name": "python",
   "nbconvert_exporter": "python",
   "pygments_lexer": "ipython3",
   "version": "3.7.1"
  }
 },
 "nbformat": 4,
 "nbformat_minor": 2
}
