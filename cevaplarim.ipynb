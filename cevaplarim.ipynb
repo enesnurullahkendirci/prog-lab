{
 "cells": [
  {
   "cell_type": "code",
   "execution_count": 3,
   "metadata": {},
   "outputs": [
    {
     "data": {
      "text/plain": [
       "False"
      ]
     },
     "execution_count": 3,
     "metadata": {},
     "output_type": "execute_result"
    }
   ],
   "source": [
    "def search(text,word):\n",
    "    a = False\n",
    "    if(text.find(word)>0):\n",
    "        a = True\n",
    "    return a\n",
    "search(\"ananin ami\",\"e\")"
   ]
  },
  {
   "cell_type": "code",
   "execution_count": 9,
   "metadata": {},
   "outputs": [
    {
     "data": {
      "text/plain": [
       "False"
      ]
     },
     "execution_count": 9,
     "metadata": {},
     "output_type": "execute_result"
    }
   ],
   "source": [
    "def search(text,word):\n",
    "    return word in text\n",
    "search(\"ananin ami\",\"eeei\")"
   ]
  },
  {
   "cell_type": "code",
   "execution_count": 12,
   "metadata": {},
   "outputs": [
    {
     "data": {
      "text/plain": [
       "('am', 7, 9)"
      ]
     },
     "execution_count": 12,
     "metadata": {},
     "output_type": "execute_result"
    }
   ],
   "source": [
    "def index(text,word):\n",
    "    a = text.find(word)\n",
    "    return word,a,a+len(word)\n",
    "index(\"ananin ami\",\"am\")"
   ]
  },
  {
   "cell_type": "code",
   "execution_count": 17,
   "metadata": {},
   "outputs": [
    {
     "data": {
      "text/plain": [
       "[0, 2, 7]"
      ]
     },
     "execution_count": 17,
     "metadata": {},
     "output_type": "execute_result"
    }
   ],
   "source": [
    "def indis (text,word):\n",
    "    a = []\n",
    "    for i in range (len(text)):\n",
    "        s = text.find(word,i,len(text))\n",
    "        if ( s!=-1 and a.count(s)==0):\n",
    "            a.append(s)\n",
    "    return a\n",
    "indis(\"ananin ami\",\"a\")\n"
   ]
  },
  {
   "cell_type": "code",
   "execution_count": 23,
   "metadata": {},
   "outputs": [
    {
     "data": {
      "text/plain": [
       "True"
      ]
     },
     "execution_count": 23,
     "metadata": {},
     "output_type": "execute_result"
    }
   ],
   "source": [
    "def palidrom(word):\n",
    "    if word[::-1] == word:\n",
    "        return True\n",
    "    else:\n",
    "        return False\n",
    "palidrom(\"kayak\")"
   ]
  },
  {
   "cell_type": "code",
   "execution_count": 27,
   "metadata": {},
   "outputs": [
    {
     "data": {
      "text/plain": [
       "(26, 27)"
      ]
     },
     "execution_count": 27,
     "metadata": {},
     "output_type": "execute_result"
    }
   ],
   "source": [
    "rasgalematris = [[1,22,3],[4,5,6]]\n",
    "def maxi(m):\n",
    "    tn,maxisatir,maxisutun = 0,0,0\n",
    "    for i in range (len(m)):\n",
    "        tm=sum(m[i])\n",
    "        if tm > maxisatir:\n",
    "            maxisatir = tm\n",
    "    for j in range (len(m[0])):\n",
    "        tn = 0\n",
    "        for i in range (len(m)):\n",
    "            tn = tn + m[i][j]\n",
    "            if tn > maxisutun:\n",
    "                maxisutun = tn\n",
    "    return maxisatir,maxisutun\n",
    "maxi(rasgalematris)"
   ]
  }
 ],
 "metadata": {
  "kernelspec": {
   "display_name": "Python 3",
   "language": "python",
   "name": "python3"
  },
  "language_info": {
   "codemirror_mode": {
    "name": "ipython",
    "version": 3
   },
   "file_extension": ".py",
   "mimetype": "text/x-python",
   "name": "python",
   "nbconvert_exporter": "python",
   "pygments_lexer": "ipython3",
   "version": "3.7.1"
  }
 },
 "nbformat": 4,
 "nbformat_minor": 2
}
