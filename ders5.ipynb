{
 "cells": [
  {
   "cell_type": "code",
   "execution_count": 1,
   "metadata": {},
   "outputs": [],
   "source": [
    "def my_Vectors_Inner_Product(v,w): \n",
    "    size=len(v)\n",
    "    my_result=[]\n",
    "    for i in range(size):\n",
    "        my_result.append(0)\n",
    "    for i in range(size):\n",
    "        my_result[i]=v[i]*w[i]\n",
    "        \n",
    "    t=0\n",
    "    for i in range(size):\n",
    "        t=t+my_result[i]\n",
    "    return t\n",
    "\n",
    "def my_Vector_Scalar_Product(alpha,v):\n",
    "    size=len(v)\n",
    "    my_result=[]\n",
    "    for i in range(size):\n",
    "        my_result.append(0)\n",
    "    for i in range(size):\n",
    "        my_result[i]=alpha*v[i]\n",
    "    return my_result\n",
    "\n",
    "def my_Vector_Addition(v,w): \n",
    "    size=len(v)\n",
    "    my_result=[]\n",
    "    for i in range(size):\n",
    "        my_result.append(0)\n",
    "    for i in range(size):\n",
    "        my_result[i]=v[i]+w[i]\n",
    "    return my_result\n",
    "\n",
    "def my_Vector_Substraction(v,w):\n",
    "    size=len(v)\n",
    "    my_result=[]\n",
    "    for i in range(size):\n",
    "        my_result.append(0)\n",
    "    for i in range(size):\n",
    "        my_result[i]=v[i]-w[i]\n",
    "    return my_result"
   ]
  },
  {
   "cell_type": "code",
   "execution_count": 2,
   "metadata": {
    "scrolled": true
   },
   "outputs": [
    {
     "data": {
      "text/plain": [
       "([3, 6, 9, 11, 15, 17], [1, 2, 3, -3, -1, -1], [10, 20, 30, 20, 35, 40])"
      ]
     },
     "execution_count": 2,
     "metadata": {},
     "output_type": "execute_result"
    }
   ],
   "source": [
    "v=[1,2,3,7,8,9]\n",
    "w=[2,4,6,4,7,8]\n",
    "r_1=my_Vector_Addition(v,w)\n",
    "r_2=my_Vector_Substraction(w,v)\n",
    "r_3=my_Vector_Scalar_Product(5,w)\n",
    "r_1,r_2,r_3"
   ]
  },
  {
   "cell_type": "code",
   "execution_count": 3,
   "metadata": {},
   "outputs": [
    {
     "data": {
      "text/plain": [
       "([5, 10, 15, 35, 40, 45],\n",
       " [20, 40, 60, 40, 70, 80],\n",
       " [25, 50, 75, 75, 110, 125],\n",
       " [-1, -2, -3, 3, 1, 1],\n",
       " 110)"
      ]
     },
     "execution_count": 3,
     "metadata": {},
     "output_type": "execute_result"
    }
   ],
   "source": [
    "a=[1,2,3,7,8,9]\n",
    "b=[2,4,6,4,7,8]\n",
    "alpha=5\n",
    "beta=10\n",
    "c=my_Vector_Scalar_Product(alpha,a)\n",
    "d=my_Vector_Scalar_Product(beta,b)\n",
    "e=my_Vector_Addition(c,d)\n",
    "f=my_Vector_Substraction(a,b)\n",
    "g=my_Vectors_Inner_Product(e,f)\n",
    "c,d,e,f,g"
   ]
  }
 ],
 "metadata": {
  "kernelspec": {
   "display_name": "Python 3",
   "language": "python",
   "name": "python3"
  },
  "language_info": {
   "codemirror_mode": {
    "name": "ipython",
    "version": 3
   },
   "file_extension": ".py",
   "mimetype": "text/x-python",
   "name": "python",
   "nbconvert_exporter": "python",
   "pygments_lexer": "ipython3",
   "version": "3.7.1"
  }
 },
 "nbformat": 4,
 "nbformat_minor": 2
}
