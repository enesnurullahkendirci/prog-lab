{
 "cells": [
  {
   "cell_type": "code",
   "execution_count": 6,
   "metadata": {
    "scrolled": true
   },
   "outputs": [
    {
     "name": "stdout",
     "output_type": "stream",
     "text": [
      "[[6, 4, 6], [87, 7, 11]] [[-4, 0, 0], [75, 3, -7]] [[10, 20, 30], [810, 50, 20]]\n"
     ]
    }
   ],
   "source": [
    "matrix_1=[1,2,3],[81,5,2]\n",
    "matrix_2=[5,2,3],[6,2,9]\n",
    "alpha=10\n",
    "\n",
    "def my_matrix_addition(m_1,m_2):\n",
    "    result=[]\n",
    "    for row in range(len(m_1)):\n",
    "        result.append([])\n",
    "        for column in range(len(m_1[0])):\n",
    "            #print (m_1[row][column],end=\" \")\n",
    "            result[row].append(m_1[row][column]+m_2[row][column])\n",
    "        #print()\n",
    "    return result\n",
    "r_1=my_matrix_addition(matrix_1,matrix_2)\n",
    "\n",
    "def my_matrix_substraction(m_1,m_2):\n",
    "    result=[]\n",
    "    for row in range(len(m_1)):\n",
    "        result.append([])\n",
    "        for column in range(len(m_1[0])):\n",
    "            #print (m_1[row][column],end=\" \")\n",
    "            result[row].append(m_1[row][column]-m_2[row][column])\n",
    "        #print()\n",
    "    return result\n",
    "r_2=my_matrix_substraction(matrix_1,matrix_2)\n",
    "\n",
    "def my_matrix_scalar_product(alpha,m_1):\n",
    "    result=[]\n",
    "    for row in range(len(m_1)):\n",
    "        result.append([])\n",
    "        for column in range(len(m_1[0])):\n",
    "            #print (m_1[row][column],end=\" \")\n",
    "            result[row].append(m_1[row][column]*alpha)\n",
    "        #print()\n",
    "    return result\n",
    "r_3=my_matrix_scalar_product(alpha,matrix_1)\n",
    "print(r_1,r_2,r_3)\n"
   ]
  },
  {
   "cell_type": "code",
   "execution_count": 7,
   "metadata": {},
   "outputs": [
    {
     "data": {
      "text/plain": [
       "[8, 9, 6]"
      ]
     },
     "execution_count": 7,
     "metadata": {},
     "output_type": "execute_result"
    }
   ],
   "source": [
    "def f_1(matrix_1,i):\n",
    "    return matrix_1[i]\n",
    "def f_2(matrix_1,j):\n",
    "    my_j_th_col=[]\n",
    "    for row in matrix_1:\n",
    "        for indis in range(len(row)):\n",
    "            if(indis==j):\n",
    "                my_j_th_col.append(row[indis])\n",
    "    return my_j_th_col\n",
    "matrix_1=[[4,6,3],[8,9,6]]\n",
    "f_2(matrix_1,2)\n",
    "\n",
    "matrix_1=[[4,6,3],[8,9,6]]\n",
    "f_1(matrix_1,1)"
   ]
  },
  {
   "cell_type": "code",
   "execution_count": 11,
   "metadata": {},
   "outputs": [],
   "source": [
    "def my_Vectors_Inner_Product(v,w): \n",
    "    size=len(v)\n",
    "    my_result=[]\n",
    "    for i in range(size):\n",
    "        my_result.append(0)\n",
    "    for i in range(size):\n",
    "        my_result[i]=v[i]*w[i]\n",
    "        \n",
    "    t=0\n",
    "    for i in range(size):\n",
    "        t=t+my_result[i]\n",
    "    return t"
   ]
  },
  {
   "cell_type": "code",
   "execution_count": 12,
   "metadata": {},
   "outputs": [
    {
     "name": "stdout",
     "output_type": "stream",
     "text": [
      "[[21, 24, 27], [47, 54, 61]]\n"
     ]
    }
   ],
   "source": [
    "def my_matrix_multiply(m_1,m_2):\n",
    "    result=[]\n",
    "    for row in range(len(m_1)):\n",
    "        result.append([])\n",
    "        for column in range(len(m_2[0])):\n",
    "            a=f_1(m_1,row)\n",
    "            b=f_2(m_2,column)\n",
    "            c=my_Vectors_Inner_Product(a,b)\n",
    "            result[row].append(c)\n",
    "    return result\n",
    "matrix_1=[[1,2],[3,4]]\n",
    "matrix_2=[[5,6,7],[8,9,10]]\n",
    "r_4=my_matrix_multiply(matrix_1,matrix_2)\n",
    "print(r_4)"
   ]
  }
 ],
 "metadata": {
  "kernelspec": {
   "display_name": "Python 3",
   "language": "python",
   "name": "python3"
  },
  "language_info": {
   "codemirror_mode": {
    "name": "ipython",
    "version": 3
   },
   "file_extension": ".py",
   "mimetype": "text/x-python",
   "name": "python",
   "nbconvert_exporter": "python",
   "pygments_lexer": "ipython3",
   "version": "3.7.1"
  },
  "widgets": {
   "application/vnd.jupyter.widget-state+json": {
    "state": {},
    "version_major": 2,
    "version_minor": 0
   }
  }
 },
 "nbformat": 4,
 "nbformat_minor": 2
}
