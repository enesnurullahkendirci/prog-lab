{
 "cells": [
  {
   "cell_type": "code",
   "execution_count": 9,
   "metadata": {},
   "outputs": [
    {
     "name": "stdout",
     "output_type": "stream",
     "text": [
      "factorial loop : 3628800 factorial recursive : 3628800\n",
      "factorial loop : 39916800 factorial recursive : 39916800\n",
      "factorial loop : 479001600 factorial recursive : 479001600\n",
      "factorial loop : 6227020800 factorial recursive : 6227020800\n",
      "factorial loop : 87178291200 factorial recursive : 87178291200\n",
      "factorial loop : 1307674368000 factorial recursive : 1307674368000\n",
      "factorial loop : 20922789888000 factorial recursive : 20922789888000\n",
      "factorial loop : 355687428096000 factorial recursive : 355687428096000\n",
      "factorial loop : 6402373705728000 factorial recursive : 6402373705728000\n",
      "factorial loop : 121645100408832000 factorial recursive : 121645100408832000\n"
     ]
    }
   ],
   "source": [
    "def factorial(n):\n",
    "    s=1\n",
    "    for i in range(1,n+1):\n",
    "        s=s*i\n",
    "    return s\n",
    "factorial(1)\n",
    "def factorial_r(n):\n",
    "    if(n==1):\n",
    "        return 1\n",
    "    else:\n",
    "        return n*factorial_r(n-1)\n",
    "factorial_r(5)\n",
    "for i in range(10,20):\n",
    "    r_1,r_2=factorial(i),factorial_r(i)\n",
    "    print(\"factorial loop :\",r_1,end=\" \")\n",
    "    print(\"factorial recursive :\",r_2)\n",
    "    "
   ]
  },
  {
   "cell_type": "code",
   "execution_count": 25,
   "metadata": {},
   "outputs": [],
   "source": [
    "def fibonacci_loop(n):\n",
    "    a,b=1,1\n",
    "    for i in range(n-1):\n",
    "        a,b=b,a+b\n",
    "    return a\n",
    "def fibonacci_recursive(n):\n",
    "    if(n<2):\n",
    "        return n\n",
    "    else:\n",
    "        return fibonacci_recursive(n-1)+fibonacci_recursive(n-2)"
   ]
  }
 ],
 "metadata": {
  "kernelspec": {
   "display_name": "Python 3",
   "language": "python",
   "name": "python3"
  }
 },
 "nbformat": 4,
 "nbformat_minor": 2
}
